{
  "nbformat": 4,
  "nbformat_minor": 0,
  "metadata": {
    "colab": {
      "provenance": [],
      "authorship_tag": "ABX9TyMJ2am59efYaoGnRc8L9hJI",
      "include_colab_link": true
    },
    "kernelspec": {
      "name": "python3",
      "display_name": "Python 3"
    },
    "language_info": {
      "name": "python"
    }
  },
  "cells": [
    {
      "cell_type": "markdown",
      "metadata": {
        "id": "view-in-github",
        "colab_type": "text"
      },
      "source": [
        "<a href=\"https://colab.research.google.com/github/David-Almaguer-La-Rosa/Support-Vector-Machine-approach-for-automatic-image-classification/blob/main/Support_Vector_Machine_approach_for_automatic_image_classification.ipynb\" target=\"_parent\"><img src=\"https://colab.research.google.com/assets/colab-badge.svg\" alt=\"Open In Colab\"/></a>"
      ]
    },
    {
      "cell_type": "markdown",
      "source": [
        "In this project I am going to code in Python how to develop a machine learning model to classify images automatically. \n",
        "\n",
        "With this objective, I am going to use the Support Vector Machine approach. First I will code and explain the binary approach, what is the base for Support Vector Machine multi-class classification.\n",
        "Later, in the multiclass scene, I am going to implement and compare two models using scikit learn platform. First, **one vs the rest** methodology implemented through LinearSVC classifier and **one vs one** implemented through SVC classifier.\n",
        "\n",
        "A theoretical reference can be reviewed at: https://towardsdatascience.com/multi-class-classification-one-vs-all-one-vs-one-94daed32a87b"
      ],
      "metadata": {
        "id": "PZGgT0Xzh-Py"
      }
    },
    {
      "cell_type": "markdown",
      "source": [
        "**One vs. Rest Support Vector Machine** (binary approach)\n"
      ],
      "metadata": {
        "id": "R1BQNvgljIUq"
      }
    },
    {
      "cell_type": "code",
      "source": [
        "import numpy as np\n",
        "import pandas as pd\n",
        "from sklearn.svm import LinearSVC\n",
        "from sklearn.datasets import load_digits\n",
        "from sklearn import datasets, svm, metrics\n",
        "from sklearn.model_selection import train_test_split\n",
        "import matplotlib.pyplot as plt"
      ],
      "metadata": {
        "id": "rv1iSFuaiQR6"
      },
      "execution_count": 18,
      "outputs": []
    },
    {
      "cell_type": "code",
      "source": [
        "# load data\n",
        "digits = load_digits()"
      ],
      "metadata": {
        "id": "4MegNmTvicaM"
      },
      "execution_count": 19,
      "outputs": []
    },
    {
      "cell_type": "code",
      "source": [
        "digits = datasets.load_digits()\n",
        "\n",
        "_, axes = plt.subplots(nrows=1, ncols=4, figsize=(10, 3))\n",
        "for ax, image, label in zip(axes, digits.images, digits.target):\n",
        "    ax.set_axis_off()\n",
        "    ax.imshow(image, cmap=plt.cm.gray_r, interpolation=\"nearest\")\n",
        "    ax.set_title(\"Training: %i\" % label)"
      ],
      "metadata": {
        "colab": {
          "base_uri": "https://localhost:8080/",
          "height": 168
        },
        "id": "3YTIdxnJEuSI",
        "outputId": "b359be22-e902-48d8-f3f2-33dd4f7a351a"
      },
      "execution_count": 20,
      "outputs": [
        {
          "output_type": "display_data",
          "data": {
            "text/plain": [
              "<Figure size 720x216 with 4 Axes>"
            ],
            "image/png": "[encoded data removed]"
          },
          "metadata": {
            "needs_background": "light"
          }
        }
      ]
    },
    {
      "cell_type": "code",
      "source": [
        "# flatten the images\n",
        "n_samples = len(digits.images)\n",
        "data = digits.images.reshape((n_samples, -1))"
      ],
      "metadata": {
        "id": "FxNKYWCkC5GL"
      },
      "execution_count": 21,
      "outputs": []
    },
    {
      "cell_type": "code",
      "source": [
        "# Split data into 50% train and 50% test subsets\n",
        "train_x, test_x, train_y, test_y = train_test_split(\n",
        "    data, digits.target, test_size=0.5, shuffle=False\n",
        ")"
      ],
      "metadata": {
        "id": "SygrD6UToeDo"
      },
      "execution_count": 22,
      "outputs": []
    },
    {
      "cell_type": "code",
      "source": [
        "# build a function to create a classifier (\"sklearn.svm.LinearSVC\"), train the model and make predictions \n",
        "\n",
        "def one_vs_rest_svm(train_x, train_y, test_x):\n",
        "    \"\"\"\n",
        "    Trains a linear SVM for binary classification\n",
        "\n",
        "    Args:\n",
        "        train_x - (n, d) NumPy array (n datapoints each with d features)\n",
        "        train_y - (n, ) NumPy array containing the labels (0 or 1) for each training data point\n",
        "        test_x - (m, d) NumPy array (m datapoints each with d features)\n",
        "    Returns:\n",
        "        pred_test_y - (m,) NumPy array containing the labels (0 or 1) for each test data point\n",
        "    \"\"\"\n",
        "    clf = LinearSVC(C=0.1, random_state=0) # C factor multiplies the loss function and not the regularization part of the cost function, which means that it basically represents the inverse of lambda. We can think of c = 1/lambda.\n",
        "    clf.fit(train_x, train_y)\n",
        "    pred_test_y = clf.predict(test_x)\n",
        "    return pred_test_y"
      ],
      "metadata": {
        "id": "5ipeG39vYjrq"
      },
      "execution_count": 29,
      "outputs": []
    },
    {
      "cell_type": "code",
      "source": [
        "# build a function to compute test error\n",
        "def compute_test_error_svm(test_y_transformed, pred_test_y):\n",
        "    return 1 - np.mean(pred_test_y == test_y_transformed)"
      ],
      "metadata": {
        "id": "7CmHf61ZbTZK"
      },
      "execution_count": 24,
      "outputs": []
    },
    {
      "cell_type": "markdown",
      "source": [
        "From the binary classification point of view, we can build a one vs. rest model for every digit. In this way we would have N-class instances and  train N binary classifier models, for example, one of them could be classify the digits into two classes: 0 and not 0.\n",
        "Here we go through this instances changing the labels of digits 1-9 to 1 and keeps the label 0 for digit 0 to train a binary classifier model. \n"
      ],
      "metadata": {
        "id": "VEcWF21HU-zS"
      }
    },
    {
      "cell_type": "code",
      "source": [
        "test_y_transformed = test_y.copy()\n",
        "train_y_transformed = train_y.copy()\n",
        "\n",
        "# building a function to develop a binary classifier model and compute the test error\n",
        "def run_svm_one_vs_rest():\n",
        "    \"\"\"\n",
        "    Trains svm, classifies test data, computes test error on test set\n",
        "\n",
        "    Returns:\n",
        "        Test error for the binary svm\n",
        "    \"\"\"\n",
        "    train_y_transformed[train_y_transformed != 0] = 1\n",
        "    test_y_transformed[test_y_transformed != 0] = 1\n",
        "    pred_test_y = one_vs_rest_svm(train_x, train_y_transformed, test_x)\n",
        "    test_error = compute_test_error_svm(test_y_transformed, pred_test_y)\n",
        "    return test_error, pred_test_y\n",
        "\n",
        "test_error, pred_test_y = run_svm_one_vs_rest()\n",
        "print('SVM one vs. rest test_error:', test_error)"
      ],
      "metadata": {
        "colab": {
          "base_uri": "https://localhost:8080/"
        },
        "id": "SWwSQwciU96I",
        "outputId": "c051d105-0230-4fe4-b3da-c45eac0a07a4"
      },
      "execution_count": 25,
      "outputs": [
        {
          "output_type": "stream",
          "name": "stdout",
          "text": [
            "SVM one vs. rest test_error: 0.008898776418242438\n"
          ]
        }
      ]
    },
    {
      "cell_type": "markdown",
      "source": [
        "As an example, the first 10 images values are compared with the first 10 predicted values. Being the case of a binary classification, the prediction will return the value of 0 if the image corresponds to this number and the value of 1 if the image corresponds to a number between 1 and 9."
      ],
      "metadata": {
        "id": "PiilYpRT4y9n"
      }
    },
    {
      "cell_type": "code",
      "source": [
        "image_values = pd.DataFrame(test_y)\n",
        "predictions = pd.DataFrame(pred_test_y)\n",
        "compare = pd.concat([image_values, predictions], axis = 1, ignore_index=True)\n",
        "compare.columns = ['image values', 'predictions']\n",
        "(compare)"
      ],
      "metadata": {
        "colab": {
          "base_uri": "https://localhost:8080/",
          "height": 424
        },
        "id": "aFMOzgzT1rCc",
        "outputId": "6fad1488-cf0c-4e36-b1ad-c6326a046068"
      },
      "execution_count": 26,
      "outputs": [
        {
          "output_type": "execute_result",
          "data": {
            "text/plain": [
              "     image values  predictions\n",
              "0               8            1\n",
              "1               8            1\n",
              "2               4            1\n",
              "3               9            1\n",
              "4               0            0\n",
              "..            ...          ...\n",
              "894             9            1\n",
              "895             0            0\n",
              "896             8            1\n",
              "897             9            1\n",
              "898             8            1\n",
              "\n",
              "[899 rows x 2 columns]"
            ],
            "text/html": [
              "\n",
              "  <div id=\"df-9e311b5b-79fe-4ab6-8909-66529ea492f3\">\n",
              "    <div class=\"colab-df-container\">\n",
              "      <div>\n",
              "<style scoped>\n",
              "    .dataframe tbody tr th:only-of-type {\n",
              "        vertical-align: middle;\n",
              "    }\n",
              "\n",
              "    .dataframe tbody tr th {\n",
              "        vertical-align: top;\n",
              "    }\n",
              "\n",
              "    .dataframe thead th {\n",
              "        text-align: right;\n",
              "    }\n",
              "</style>\n",
              "<table border=\"1\" class=\"dataframe\">\n",
              "  <thead>\n",
              "    <tr style=\"text-align: right;\">\n",
              "      <th></th>\n",
              "      <th>image values</th>\n",
              "      <th>predictions</th>\n",
              "    </tr>\n",
              "  </thead>\n",
              "  <tbody>\n",
              "    <tr>\n",
              "      <th>0</th>\n",
              "      <td>8</td>\n",
              "      <td>1</td>\n",
              "    </tr>\n",
              "    <tr>\n",
              "      <th>1</th>\n",
              "      <td>8</td>\n",
              "      <td>1</td>\n",
              "    </tr>\n",
              "    <tr>\n",
              "      <th>2</th>\n",
              "      <td>4</td>\n",
              "      <td>1</td>\n",
              "    </tr>\n",
              "    <tr>\n",
              "      <th>3</th>\n",
              "      <td>9</td>\n",
              "      <td>1</td>\n",
              "    </tr>\n",
              "    <tr>\n",
              "      <th>4</th>\n",
              "      <td>0</td>\n",
              "      <td>0</td>\n",
              "    </tr>\n",
              "    <tr>\n",
              "      <th>...</th>\n",
              "      <td>...</td>\n",
              "      <td>...</td>\n",
              "    </tr>\n",
              "    <tr>\n",
              "      <th>894</th>\n",
              "      <td>9</td>\n",
              "      <td>1</td>\n",
              "    </tr>\n",
              "    <tr>\n",
              "      <th>895</th>\n",
              "      <td>0</td>\n",
              "      <td>0</td>\n",
              "    </tr>\n",
              "    <tr>\n",
              "      <th>896</th>\n",
              "      <td>8</td>\n",
              "      <td>1</td>\n",
              "    </tr>\n",
              "    <tr>\n",
              "      <th>897</th>\n",
              "      <td>9</td>\n",
              "      <td>1</td>\n",
              "    </tr>\n",
              "    <tr>\n",
              "      <th>898</th>\n",
              "      <td>8</td>\n",
              "      <td>1</td>\n",
              "    </tr>\n",
              "  </tbody>\n",
              "</table>\n",
              "<p>899 rows × 2 columns</p>\n",
              "</div>\n",
              "      <button class=\"colab-df-convert\" onclick=\"convertToInteractive('df-9e311b5b-79fe-4ab6-8909-66529ea492f3')\"\n",
              "              title=\"Convert this dataframe to an interactive table.\"\n",
              "              style=\"display:none;\">\n",
              "        \n",
              "  <svg xmlns=\"http://www.w3.org/2000/svg\" height=\"24px\"viewBox=\"0 0 24 24\"\n",
              "       width=\"24px\">\n",
              "    <path d=\"M0 0h24v24H0V0z\" fill=\"none\"/>\n",
              "    <path d=\"M18.56 5.44l.94 2.06.94-2.06 2.06-.94-2.06-.94-.94-2.06-.94 2.06-2.06.94zm-11 1L8.5 8.5l.94-2.06 2.06-.94-2.06-.94L8.5 2.5l-.94 2.06-2.06.94zm10 10l.94 2.06.94-2.06 2.06-.94-2.06-.94-.94-2.06-.94 2.06-2.06.94z\"/><path d=\"M17.41 7.96l-1.37-1.37c-.4-.4-.92-.59-1.43-.59-.52 0-1.04.2-1.43.59L10.3 9.45l-7.72 7.72c-.78.78-.78 2.05 0 2.83L4 21.41c.39.39.9.59 1.41.59.51 0 1.02-.2 1.41-.59l7.78-7.78 2.81-2.81c.8-.78.8-2.07 0-2.86zM5.41 20L4 18.59l7.72-7.72 1.47 1.35L5.41 20z\"/>\n",
              "  </svg>\n",
              "      </button>\n",
              "      \n",
              "  <style>\n",
              "    .colab-df-container {\n",
              "      display:flex;\n",
              "      flex-wrap:wrap;\n",
              "      gap: 12px;\n",
              "    }\n",
              "\n",
              "    .colab-df-convert {\n",
              "      background-color: #E8F0FE;\n",
              "      border: none;\n",
              "      border-radius: 50%;\n",
              "      cursor: pointer;\n",
              "      display: none;\n",
              "      fill: #1967D2;\n",
              "      height: 32px;\n",
              "      padding: 0 0 0 0;\n",
              "      width: 32px;\n",
              "    }\n",
              "\n",
              "    .colab-df-convert:hover {\n",
              "      background-color: #E2EBFA;\n",
              "      box-shadow: 0px 1px 2px rgba(60, 64, 67, 0.3), 0px 1px 3px 1px rgba(60, 64, 67, 0.15);\n",
              "      fill: #174EA6;\n",
              "    }\n",
              "\n",
              "    [theme=dark] .colab-df-convert {\n",
              "      background-color: #3B4455;\n",
              "      fill: #D2E3FC;\n",
              "    }\n",
              "\n",
              "    [theme=dark] .colab-df-convert:hover {\n",
              "      background-color: #434B5C;\n",
              "      box-shadow: 0px 1px 3px 1px rgba(0, 0, 0, 0.15);\n",
              "      filter: drop-shadow(0px 1px 2px rgba(0, 0, 0, 0.3));\n",
              "      fill: #FFFFFF;\n",
              "    }\n",
              "  </style>\n",
              "\n",
              "      <script>\n",
              "        const buttonEl =\n",
              "          document.querySelector('#df-9e311b5b-79fe-4ab6-8909-66529ea492f3 button.colab-df-convert');\n",
              "        buttonEl.style.display =\n",
              "          google.colab.kernel.accessAllowed ? 'block' : 'none';\n",
              "\n",
              "        async function convertToInteractive(key) {\n",
              "          const element = document.querySelector('#df-9e311b5b-79fe-4ab6-8909-66529ea492f3');\n",
              "          const dataTable =\n",
              "            await google.colab.kernel.invokeFunction('convertToInteractive',\n",
              "                                                     [key], {});\n",
              "          if (!dataTable) return;\n",
              "\n",
              "          const docLinkHtml = 'Like what you see? Visit the ' +\n",
              "            '<a target=\"_blank\" href=https://colab.research.google.com/notebooks/data_table.ipynb>data table notebook</a>'\n",
              "            + ' to learn more about interactive tables.';\n",
              "          element.innerHTML = '';\n",
              "          dataTable['output_type'] = 'display_data';\n",
              "          await google.colab.output.renderOutput(dataTable, element);\n",
              "          const docLink = document.createElement('div');\n",
              "          docLink.innerHTML = docLinkHtml;\n",
              "          element.appendChild(docLink);\n",
              "        }\n",
              "      </script>\n",
              "    </div>\n",
              "  </div>\n",
              "  "
            ]
          },
          "metadata": {},
          "execution_count": 26
        }
      ]
    },
    {
      "cell_type": "code",
      "source": [
        "# obtain metrics for binary classifier model using LinearSVC\n",
        "print(    \n",
        "    f\"{metrics.classification_report(test_y_transformed, pred_test_y)}\\n\"\n",
        ")"
      ],
      "metadata": {
        "colab": {
          "base_uri": "https://localhost:8080/"
        },
        "id": "kcjjy39nD5cR",
        "outputId": "51601e85-a008-4801-fcb0-4ab20c9b22b3"
      },
      "execution_count": 27,
      "outputs": [
        {
          "output_type": "stream",
          "name": "stdout",
          "text": [
            "              precision    recall  f1-score   support\n",
            "\n",
            "           0       0.94      0.97      0.96        88\n",
            "           1       1.00      0.99      1.00       811\n",
            "\n",
            "    accuracy                           0.99       899\n",
            "   macro avg       0.97      0.98      0.98       899\n",
            "weighted avg       0.99      0.99      0.99       899\n",
            "\n",
            "\n"
          ]
        }
      ]
    },
    {
      "cell_type": "code",
      "source": [
        "disp = metrics.ConfusionMatrixDisplay.from_predictions(test_y_transformed, pred_test_y)\n",
        "disp.figure_.suptitle(\"Confusion Matrix\")\n",
        "#print(f\"Confusion matrix:\\n{disp.confusion_matrix}\")\n",
        "\n",
        "plt.show()"
      ],
      "metadata": {
        "colab": {
          "base_uri": "https://localhost:8080/",
          "height": 308
        },
        "id": "umSRu_d3Lp56",
        "outputId": "20ef0790-777e-4104-d2ae-3f431644d2e8"
      },
      "execution_count": 28,
      "outputs": [
        {
          "output_type": "display_data",
          "data": {
            "text/plain": [
              "<Figure size 432x288 with 2 Axes>"
            ],
            "image/png": "[encoded data removed]"
          },
          "metadata": {
            "needs_background": "light"
          }
        }
      ]
    },
    {
      "cell_type": "markdown",
      "source": [
        "**Linear SVM for multiclass classifciation using a *one-vs-rest* strategy**\n",
        "\n",
        "Under the one-vs-rest approach (Rifkin and Klautau, 2004), the outputs of the k binary models are combined to generate multiclass predictions, as illustrated in the figure bellow.\n",
        "\n",
        "<img src=\"https://www.researchgate.net/profile/Anders-Ringgaard-Kristensen/publication/257018675/figure/fig2/AS:667859080470545@1536241421780/The-considered-one-vs-all-multiclass-classification-approach.png\" width='700'/>\n",
        "\n",
        "Figure source: Escalante *et al.* (2013). Sow-activity classification from acceleration patterns: A machine learning approach. Computers and Electronics in Agriculture."
      ],
      "metadata": {
        "id": "LRr6omVVh0ad"
      }
    },
    {
      "cell_type": "code",
      "source": [
        "# building a function for one vs rest strategy through \"sklearn.svm.LinearSVC\" model\n",
        "def multi_class_svm_ovr(train_x, train_y, test_x):\n",
        "    \"\"\"\n",
        "    Trains a linear SVM for multiclass classifciation using a one-vs-rest strategy\n",
        "\n",
        "    Args:\n",
        "        train_x - (n, d) NumPy array (n datapoints each with d features)\n",
        "        train_y - (n, ) NumPy array containing the labels (int) for each training data point\n",
        "        test_x - (m, d) NumPy array (m datapoints each with d features)\n",
        "    Returns:\n",
        "        pred_test_y - (m,) NumPy array containing the labels (int) for each test data point\n",
        "    \"\"\"\n",
        "    clf_ovr = LinearSVC(C=0.3, random_state=0)\n",
        "    clf_ovr.fit(train_x, train_y)\n",
        "    pred_test_y_multiclass_ovr = clf_ovr.predict(test_x)\n",
        "    return pred_test_y_multiclass_ovr\n",
        "\n",
        "pred_test_y_multiclass_ovr = multi_class_svm_ovr(train_x, train_y, test_x)"
      ],
      "metadata": {
        "id": "4VJt2j46hzsz"
      },
      "execution_count": null,
      "outputs": []
    },
    {
      "cell_type": "code",
      "source": [
        "def compute_test_error_svm_multiclass(test_y, pred_test_y_multiclass_ovr):\n",
        "    return 1 - np.mean(pred_test_y_multiclass_ovr == test_y)\n",
        "\n",
        "compute_test_error_svm(test_y, pred_test_y_multiclass_ovr)"
      ],
      "metadata": {
        "id": "b0o-cDOAYfNM",
        "colab": {
          "base_uri": "https://localhost:8080/"
        },
        "outputId": "4ebefb99-361f-4802-884d-e0d7e6cf21a1"
      },
      "execution_count": 46,
      "outputs": [
        {
          "output_type": "execute_result",
          "data": {
            "text/plain": [
              "0.08898776418242493"
            ]
          },
          "metadata": {},
          "execution_count": 46
        }
      ]
    },
    {
      "cell_type": "code",
      "source": [
        "# obtain metrics for a multiclass classifier model using a one-vs-rest strategy through \"sklearn.svm.LinearSVC\" model\n",
        "print(    \n",
        "    f\"{metrics.classification_report(test_y, pred_test_y_multiclass_ovr)}\\n\"\n",
        ")"
      ],
      "metadata": {
        "colab": {
          "base_uri": "https://localhost:8080/"
        },
        "id": "PPS6yGVPdPL6",
        "outputId": "3385877b-2e8b-40f2-a19c-585996e50636"
      },
      "execution_count": 47,
      "outputs": [
        {
          "output_type": "stream",
          "name": "stdout",
          "text": [
            "              precision    recall  f1-score   support\n",
            "\n",
            "           0       0.95      0.94      0.95        88\n",
            "           1       0.86      0.87      0.86        91\n",
            "           2       0.96      0.99      0.97        86\n",
            "           3       0.95      0.85      0.90        91\n",
            "           4       0.98      0.93      0.96        92\n",
            "           5       0.83      0.90      0.86        91\n",
            "           6       0.95      0.99      0.97        91\n",
            "           7       0.99      0.87      0.92        89\n",
            "           8       0.87      0.84      0.86        88\n",
            "           9       0.82      0.93      0.87        92\n",
            "\n",
            "    accuracy                           0.91       899\n",
            "   macro avg       0.91      0.91      0.91       899\n",
            "weighted avg       0.91      0.91      0.91       899\n",
            "\n",
            "\n"
          ]
        }
      ]
    },
    {
      "cell_type": "code",
      "source": [
        "# print the confusion matrix\n",
        "disp = metrics.ConfusionMatrixDisplay.from_predictions(test_y, pred_test_y_multiclass_ovr)\n",
        "disp.figure_.suptitle(\"Confusion Matrix\")\n",
        "#print(f\"Confusion matrix:\\n{disp.confusion_matrix}\")\n",
        "plt.show()"
      ],
      "metadata": {
        "colab": {
          "base_uri": "https://localhost:8080/",
          "height": 308
        },
        "id": "KTj943LQdCMa",
        "outputId": "a1818a0f-29ed-44c9-e4e0-5b6627d59593"
      },
      "execution_count": 49,
      "outputs": [
        {
          "output_type": "display_data",
          "data": {
            "text/plain": [
              "<Figure size 432x288 with 2 Axes>"
            ],
            "image/png": "[encoded data removed]"
          },
          "metadata": {
            "needs_background": "light"
          }
        }
      ]
    },
    {
      "cell_type": "markdown",
      "source": [
        "**SVM for multiclass classification using a *one-vs-one* strategy**"
      ],
      "metadata": {
        "id": "CTD29bDHEjZh"
      }
    },
    {
      "cell_type": "code",
      "source": [
        "# building a function for one vs one strategy through \"sklearn.svm.SVC\" model\n",
        "def multi_class_svm_ovo(train_x, train_y, test_x):\n",
        "    \"\"\"\n",
        "    Trains a linear SVM for multiclass classification using a one-vs-one strategy\n",
        "\n",
        "    Args:\n",
        "        train_x - (n, d) NumPy array (n datapoints each with d features)\n",
        "        train_y - (n, ) NumPy array containing the labels (int) for each training data point\n",
        "        test_x - (m, d) NumPy array (m datapoints each with d features)\n",
        "    Returns:\n",
        "        pred_test_y - (m,) NumPy array containing the labels (int) for each test data point\n",
        "    \"\"\"\n",
        "    clf_ovo = svm.SVC(gamma=0.001)\n",
        "    clf_ovo.fit(train_x, train_y)\n",
        "    pred_test_y_multiclass_ovo = clf_ovo.predict(test_x)\n",
        "    return pred_test_y_multiclass_ovo\n",
        "\n",
        "pred_test_y_multiclass_ovo = multi_class_svm_ovo(train_x, train_y, test_x)"
      ],
      "metadata": {
        "id": "OmzHiXa7BDXP"
      },
      "execution_count": 36,
      "outputs": []
    },
    {
      "cell_type": "code",
      "source": [
        "def compute_test_error_svm_multiclass_ovo(test_y, pred_test_y_multiclass_ovo):\n",
        "    return 1 - np.mean(pred_test_y_multiclass_ovo == test_y)\n",
        "\n",
        "compute_test_error_svm_multiclass_ovo(test_y, pred_test_y_multiclass_ovo)"
      ],
      "metadata": {
        "colab": {
          "base_uri": "https://localhost:8080/"
        },
        "id": "qggxhRF6IlJZ",
        "outputId": "ede9f05c-7704-4b5d-eafc-9d6755021f75"
      },
      "execution_count": 37,
      "outputs": [
        {
          "output_type": "execute_result",
          "data": {
            "text/plain": [
              "0.031145717463848754"
            ]
          },
          "metadata": {},
          "execution_count": 37
        }
      ]
    },
    {
      "cell_type": "code",
      "source": [
        "# obtain metrics for a multiclass classifier model using a one-vs-one strategy through \"sklearn.svm.SVC\" model\n",
        "print(    \n",
        "    f\"{metrics.classification_report(test_y, pred_test_y_multiclass_ovo)}\\n\"\n",
        ")"
      ],
      "metadata": {
        "colab": {
          "base_uri": "https://localhost:8080/"
        },
        "id": "n4NCKgpLJSgP",
        "outputId": "d6555f75-45c2-4d55-d7ec-daac52c3e05e"
      },
      "execution_count": 38,
      "outputs": [
        {
          "output_type": "stream",
          "name": "stdout",
          "text": [
            "              precision    recall  f1-score   support\n",
            "\n",
            "           0       1.00      0.99      0.99        88\n",
            "           1       0.99      0.97      0.98        91\n",
            "           2       0.99      0.99      0.99        86\n",
            "           3       0.98      0.87      0.92        91\n",
            "           4       0.99      0.96      0.97        92\n",
            "           5       0.95      0.97      0.96        91\n",
            "           6       0.99      0.99      0.99        91\n",
            "           7       0.96      0.99      0.97        89\n",
            "           8       0.94      1.00      0.97        88\n",
            "           9       0.93      0.98      0.95        92\n",
            "\n",
            "    accuracy                           0.97       899\n",
            "   macro avg       0.97      0.97      0.97       899\n",
            "weighted avg       0.97      0.97      0.97       899\n",
            "\n",
            "\n"
          ]
        }
      ]
    },
    {
      "cell_type": "code",
      "source": [
        "# print the confusion matrix\n",
        "disp = metrics.ConfusionMatrixDisplay.from_predictions(test_y, pred_test_y_multiclass_ovo)\n",
        "disp.figure_.suptitle(\"Confusion Matrix\")\n",
        "#print(f\"Confusion matrix:\\n{disp.confusion_matrix}\")\n",
        "plt.show()"
      ],
      "metadata": {
        "colab": {
          "base_uri": "https://localhost:8080/",
          "height": 308
        },
        "id": "z2BVIr2lJamn",
        "outputId": "7d213958-3dcd-482b-b9ec-36410dc1fb16"
      },
      "execution_count": 39,
      "outputs": [
        {
          "output_type": "display_data",
          "data": {
            "text/plain": [
              "<Figure size 432x288 with 2 Axes>"
            ],
            "image/png": "[encoded data removed]"
          },
          "metadata": {
            "needs_background": "light"
          }
        }
      ]
    },
    {
      "cell_type": "markdown",
      "source": [
        "\n",
        "In conclusion, it can be established that the model generated with the one vs one strategy offers better classifications results **(accuracy = 0.97 and test error = 0.031)** than the model generated with the one vs rest strategy **(accuracy = 0.91 and test error = 0.088)**."
      ],
      "metadata": {
        "id": "lP5Bmp-tcG1X"
      }
    }
  ]
}